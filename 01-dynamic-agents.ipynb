{
 "cells": [
  {
   "cell_type": "code",
   "execution_count": 96,
   "metadata": {
    "vscode": {
     "languageId": "shellscript"
    }
   },
   "outputs": [],
   "source": [
    "%%capture --no-stderr\n",
    "%pip install --quiet -U langgraph langchain_openai langchain_community langchain_core tavily-python wikipedia"
   ]
  },
  {
   "cell_type": "code",
   "execution_count": 97,
   "metadata": {},
   "outputs": [],
   "source": [
    "from langchain_openai import ChatOpenAI\n",
    "from dotenv import load_dotenv\n",
    "\n",
    "# Load environment variables from .env file\n",
    "load_dotenv()\n",
    "\n",
    "# Create the base instance of the ChatOpenAI class\n",
    "llm = ChatOpenAI(model=\"gpt-4o\", temperature=0)"
   ]
  },
  {
   "cell_type": "code",
   "execution_count": 98,
   "metadata": {},
   "outputs": [],
   "source": [
    "from typing import List\n",
    "from typing_extensions import TypedDict\n",
    "from pydantic import BaseModel, Field\n",
    "\n",
    "\n",
    "class Analyst(BaseModel):\n",
    "    affiliation: str = Field(\n",
    "        description=\"Primary affiliation of the analyst.\",\n",
    "    )\n",
    "    name: str = Field(\n",
    "        description=\"Name of the analyst.\"\n",
    "    )\n",
    "    role: str = Field(\n",
    "        description=\"Role of the analyst in the context of the topic.\",\n",
    "    )\n",
    "    description: str = Field(\n",
    "        description=\"Description of the analyst focus, concerns, and motives.\",\n",
    "    )\n",
    "\n",
    "    @property\n",
    "    def persona(self) -> str:\n",
    "        return f\"Name: {self.name}\\nRole: {self.role}\\nAffiliation: {self.affiliation}\\nDescription: {self.description}\\n\"\n",
    "\n",
    "\n",
    "class Perspectives(BaseModel):\n",
    "    analysts: List[Analyst] = Field(\n",
    "        description=\"Comprehensive list of analysts with their roles and affiliations.\",\n",
    "    )\n",
    "\n",
    "\n",
    "class GenerateAnalystsState(TypedDict):\n",
    "    topic: str  # Research topic\n",
    "    max_analysts: int  # Number of analysts\n",
    "    human_analyst_feedback: str  # Human feedback\n",
    "    analysts: List[Analyst]  # Analyst asking questions"
   ]
  },
  {
   "cell_type": "code",
   "execution_count": 99,
   "metadata": {},
   "outputs": [],
   "source": [
    "analyst_instructions=\"\"\"\n",
    "You are tasked with creating a set of AI analyst personas. Follow these instructions carefully:\n",
    "\n",
    "1. First, review the research topic:\n",
    "{topic}\n",
    "       \n",
    "2. Examine any editorial feedback that has been optionally provided to guide creation of the analysts: \n",
    "{human_analyst_feedback}\n",
    "\n",
    "3. Determine the most interesting themes based upon documents and / or feedback above.\n",
    "                    \n",
    "4. Pick the top {max_analysts} themes.\n",
    "\n",
    "5. Assign one analyst to each theme.\n",
    "\"\"\".strip()"
   ]
  },
  {
   "cell_type": "code",
   "execution_count": 100,
   "metadata": {},
   "outputs": [
    {
     "data": {
      "image/jpeg": "[encoded data removed]",
      "text/plain": [
       "<IPython.core.display.Image object>"
      ]
     },
     "metadata": {},
     "output_type": "display_data"
    }
   ],
   "source": [
    "from IPython.display import Image, display\n",
    "from langgraph.graph import START, END, StateGraph\n",
    "from langgraph.checkpoint.memory import MemorySaver\n",
    "from langchain_core.messages import AIMessage, HumanMessage, SystemMessage\n",
    "\n",
    "\n",
    "def node_create_analysts(state: GenerateAnalystsState):\n",
    "    \"\"\"Create analysts\"\"\"\n",
    "\n",
    "    # Topic to research\n",
    "    topic = state['topic']\n",
    "    # Maximum number of analysts\n",
    "    max_analysts = state['max_analysts']\n",
    "    # Human feedback\n",
    "    human_analyst_feedback = state.get('human_analyst_feedback', '')\n",
    "\n",
    "    # Force the LLM to answer with the Perspectives structure which is a list\n",
    "    # of Analysts\n",
    "    structured_llm = llm.with_structured_output(Perspectives)\n",
    "\n",
    "    # Create the prompt using the graph state\n",
    "    system_message = analyst_instructions.format(\n",
    "        topic=topic,\n",
    "        human_analyst_feedback=human_analyst_feedback,\n",
    "        max_analysts=max_analysts\n",
    "    )\n",
    "\n",
    "    # Generate question\n",
    "    analysts = structured_llm.invoke(\n",
    "        [SystemMessage(content=system_message)] +\n",
    "        [HumanMessage(content=\"Generate the set of analysts.\")]\n",
    "    )\n",
    "\n",
    "    # GenerateAnalystsState has a list of Analysts, and Perspectives has a list of Analysts\n",
    "    # so we forced the LLM to answer with the structure we wanted and store it result\n",
    "    # in the state\n",
    "    return {\"analysts\": analysts.analysts}\n",
    "\n",
    "\n",
    "def node_human_feedback(state: GenerateAnalystsState):\n",
    "    \"\"\" No-op node that should be interrupted on \"\"\"\n",
    "    pass\n",
    "\n",
    "\n",
    "def node_should_continue(state: GenerateAnalystsState):\n",
    "    \"\"\" Return the next node to execute \"\"\"\n",
    "\n",
    "    # Check if human feedback\n",
    "    human_analyst_feedback = state.get('human_analyst_feedback', None)\n",
    "\n",
    "    # If there is human feedback, we need to revisit the create_analysts node\n",
    "    # because the logic uses the feedback to refine the list of Analysts\n",
    "    if human_analyst_feedback:\n",
    "        return \"create_analysts\"\n",
    "\n",
    "    # Otherwise end\n",
    "    return END\n",
    "\n",
    "\n",
    "# Add nodes and edges\n",
    "builder = StateGraph(GenerateAnalystsState)\n",
    "\n",
    "builder.add_node(\"create_analysts\", node_create_analysts)\n",
    "builder.add_node(\"human_feedback\", node_human_feedback)\n",
    "\n",
    "builder.add_edge(START, \"create_analysts\")\n",
    "builder.add_edge(\"create_analysts\", \"human_feedback\")\n",
    "builder.add_conditional_edges(\"human_feedback\", node_should_continue)\n",
    "\n",
    "# Compile\n",
    "memory = MemorySaver()\n",
    "graph = builder.compile(\n",
    "    interrupt_before=['human_feedback'], checkpointer=memory)\n",
    "\n",
    "# View\n",
    "display(Image(graph.get_graph(xray=1).draw_mermaid_png()))"
   ]
  },
  {
   "cell_type": "code",
   "execution_count": 101,
   "metadata": {},
   "outputs": [
    {
     "name": "stdout",
     "output_type": "stream",
     "text": [
      "Name: Dr. Emily Carter\n",
      "Role: Economic Impact Analyst\n",
      "Affiliation: International Monetary Fund (IMF)\n",
      "Description: Dr. Carter focuses on analyzing the macroeconomic effects of climate change, including GDP fluctuations, employment shifts, and fiscal policy adjustments. Her primary concern is understanding how climate change can alter economic stability and growth patterns globally. She aims to provide insights that can help policymakers mitigate negative economic impacts.\n",
      "\n",
      "Name: Prof. Michael Green\n",
      "Role: Environmental Policy Analyst\n",
      "Affiliation: World Resources Institute\n",
      "Description: Prof. Green examines the intersection of environmental policies and economic outcomes. He is particularly interested in how climate change policies can drive economic innovation and transformation. His motive is to identify policy frameworks that not only address environmental concerns but also promote sustainable economic development.\n",
      "\n",
      "Name: Dr. Sarah Lin\n",
      "Role: Social Impact Analyst\n",
      "Affiliation: Oxford University\n",
      "Description: Dr. Lin studies the social implications of climate change on economic structures, focusing on income inequality, job displacement, and community resilience. Her concern is how vulnerable populations are disproportionately affected by climate-related economic changes. She seeks to highlight strategies that can enhance social equity in the face of economic transitions due to climate change.\n",
      "\n"
     ]
    }
   ],
   "source": [
    "import random\n",
    "import string\n",
    "\n",
    "thread_id = ''.join(random.choices(string.ascii_letters + string.digits, k=6))\n",
    "\n",
    "config = {\n",
    "    \"configurable\": {\n",
    "        \"thread_id\": thread_id\n",
    "    }\n",
    "}\n",
    "\n",
    "initial_state = {\n",
    "    \"topic\": \"The impact of climate change on the economy\",\n",
    "    \"max_analysts\": 3,\n",
    "    \"human_analyst_feedback\": \"\",\n",
    "    \"analysts\": []\n",
    "}\n",
    "\n",
    "# Execute the graph till we reach the call to pass human feedback\n",
    "for event in graph.stream(initial_state, config, stream_mode=\"values\"):\n",
    "    for analyst in event.get('analysts'):\n",
    "        print(analyst.persona)"
   ]
  },
  {
   "cell_type": "code",
   "execution_count": 102,
   "metadata": {},
   "outputs": [
    {
     "data": {
      "text/plain": [
       "('human_feedback',)"
      ]
     },
     "execution_count": 102,
     "metadata": {},
     "output_type": "execute_result"
    }
   ],
   "source": [
    "# Access the graph state and verify the next node to execute\n",
    "snapshot = graph.get_state(config)\n",
    "snapshot.next"
   ]
  },
  {
   "cell_type": "code",
   "execution_count": 103,
   "metadata": {},
   "outputs": [
    {
     "data": {
      "text/plain": [
       "{'configurable': {'thread_id': 'KeWfnQ',\n",
       "  'checkpoint_ns': '',\n",
       "  'checkpoint_id': '1ef8fe51-239e-6d9c-8002-5fe749cb96a0'}}"
      ]
     },
     "execution_count": 103,
     "metadata": {},
     "output_type": "execute_result"
    }
   ],
   "source": [
    "# Update the state (we are forcing to reloop the create_analysts node)\n",
    "update_state = {\n",
    "    \"human_analyst_feedback\": \"add an advanced phisicist to the board\",\n",
    "}\n",
    "\n",
    "# We now update the state as if we are the human_feedback node\n",
    "graph.update_state(\n",
    "    config,\n",
    "    update_state,   \n",
    "    as_node=\"human_feedback\"\n",
    ")"
   ]
  },
  {
   "cell_type": "code",
   "execution_count": 104,
   "metadata": {},
   "outputs": [
    {
     "name": "stdout",
     "output_type": "stream",
     "text": [
      "Name: Dr. Emily Carter\n",
      "Role: Environmental Economist\n",
      "Affiliation: Global Economic Forum\n",
      "Description: Dr. Carter focuses on the economic implications of climate change, analyzing how shifts in climate patterns affect global markets, trade, and economic stability. She is concerned with developing sustainable economic policies that mitigate climate risks and promote green growth.\n",
      "\n",
      "Name: Prof. Michael Green\n",
      "Role: Climate Policy Analyst\n",
      "Affiliation: International Climate Policy Institute\n",
      "Description: Prof. Green examines the intersection of climate change and policy-making, evaluating the effectiveness of international agreements and national policies in addressing climate change. His work is driven by the need to create robust policy frameworks that support economic resilience in the face of climate change.\n",
      "\n",
      "Name: Dr. Sarah Thompson\n",
      "Role: Advanced Physicist\n",
      "Affiliation: Institute of Advanced Physics\n",
      "Description: Dr. Thompson investigates the physical processes driving climate change and their potential economic impacts. Her research includes modeling climate systems and understanding the long-term effects of physical changes on economic infrastructures. She aims to provide scientific insights that inform economic strategies and policy decisions.\n",
      "\n"
     ]
    }
   ],
   "source": [
    "last_analysts = False\n",
    "\n",
    "# Continue the graph execution with updates mode\n",
    "for event in graph.stream(None, config, stream_mode=\"values\"):\n",
    "    # Update the last_analysts with the current event's analysts\n",
    "    last_analysts = event.get('analysts')\n",
    "\n",
    "# After the loop, print the last analysts value\n",
    "if last_analysts:\n",
    "    for analyst in last_analysts:\n",
    "        print(analyst.persona)"
   ]
  },
  {
   "cell_type": "code",
   "execution_count": 106,
   "metadata": {},
   "outputs": [
    {
     "name": "stdout",
     "output_type": "stream",
     "text": [
      "--Node--\n",
      "topic\n"
     ]
    },
    {
     "data": {
      "text/plain": [
       "()"
      ]
     },
     "execution_count": 106,
     "metadata": {},
     "output_type": "execute_result"
    }
   ],
   "source": [
    "# Update the state (we are forcing to reloop the create_analysts node)\n",
    "update_state = {\n",
    "    \"human_analyst_feedback\": None\n",
    "}\n",
    "\n",
    "# We now update the state as if we are the human_feedback node\n",
    "graph.update_state(\n",
    "    config,\n",
    "    update_state,   \n",
    "    as_node=\"human_feedback\"\n",
    ")\n",
    "\n",
    "# Continue the graph execution to end\n",
    "for event in graph.stream(None, config, stream_mode=\"values\"):\n",
    "    print(\"--Node--\")\n",
    "    node_name = next(iter(event.keys()))\n",
    "    print(node_name)\n",
    "\n",
    "snapshot = graph.get_state(config)\n",
    "snapshot.next"
   ]
  }
 ],
 "metadata": {
  "kernelspec": {
   "display_name": ".venv",
   "language": "python",
   "name": "python3"
  },
  "language_info": {
   "codemirror_mode": {
    "name": "ipython",
    "version": 3
   },
   "file_extension": ".py",
   "mimetype": "text/x-python",
   "name": "python",
   "nbconvert_exporter": "python",
   "pygments_lexer": "ipython3",
   "version": "3.10.15"
  }
 },
 "nbformat": 4,
 "nbformat_minor": 2
}
