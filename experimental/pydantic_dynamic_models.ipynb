{
 "cells": [
  {
   "cell_type": "code",
   "execution_count": 1,
   "metadata": {
    "vscode": {
     "languageId": "shellscript"
    }
   },
   "outputs": [
    {
     "name": "stdout",
     "output_type": "stream",
     "text": [
      "Note: you may need to restart the kernel to use updated packages.\n"
     ]
    }
   ],
   "source": [
    "%pip install --quiet -U pydantic"
   ]
  },
  {
   "cell_type": "code",
   "execution_count": 7,
   "metadata": {},
   "outputs": [
    {
     "name": "stdout",
     "output_type": "stream",
     "text": [
      "country='Argentina' date='2019-10-10' deaths=25000\n"
     ]
    }
   ],
   "source": [
    "import json\n",
    "from pydantic import create_model, ValidationError\n",
    "\n",
    "# Ejemplo de especificación en cadena para crear el modelo\n",
    "spec = \"\"\"\n",
    "{\n",
    "    \"country\": \"str\",\n",
    "    \"date\": \"YYYY-MM-DD\",\n",
    "    \"deaths\": \"int\"\n",
    "}\n",
    "\"\"\"\n",
    "\n",
    "data = \"\"\"\n",
    "{\n",
    "    \"country\": \"Argentina\",\n",
    "    \"date\": \"2019-10-10\",\n",
    "    \"deaths\": \"25000\"\n",
    "}\n",
    "\"\"\"\n",
    "\n",
    "try:\n",
    "    # Convertir la respuesta JSON en una especificación para el modelo\n",
    "    data_spec = json.loads(spec)\n",
    "    data_data = json.loads(data)\n",
    "    \n",
    "    # Crear el modelo dinámico\n",
    "    type_mapping = {\n",
    "        \"YYYY-MM-DD\": str,\n",
    "        \"str\": str,\n",
    "        \"int\": int,\n",
    "        \"float\": float,\n",
    "        \"bool\": bool\n",
    "    }\n",
    "    model_fields = {key: (type_mapping[value], ...) for key, value in data_spec.items()}\n",
    "    DynamicModel = create_model('DynamicModel', **model_fields)\n",
    "\n",
    "    # Validar los datos usando el modelo dinámico\n",
    "    structured_data = DynamicModel(**data_data)\n",
    "\n",
    "    print(structured_data)\n",
    "except json.JSONDecodeError:\n",
    "    print(\"Error: No se pudo decodificar la respuesta en JSON.\")\n",
    "except ValidationError as e:\n",
    "    print(f\"Error al validar los datos con el modelo dinámico: {e}\")"
   ]
  }
 ],
 "metadata": {
  "kernelspec": {
   "display_name": ".venv",
   "language": "python",
   "name": "python3"
  },
  "language_info": {
   "codemirror_mode": {
    "name": "ipython",
    "version": 3
   },
   "file_extension": ".py",
   "mimetype": "text/x-python",
   "name": "python",
   "nbconvert_exporter": "python",
   "pygments_lexer": "ipython3",
   "version": "3.10.15"
  }
 },
 "nbformat": 4,
 "nbformat_minor": 2
}
