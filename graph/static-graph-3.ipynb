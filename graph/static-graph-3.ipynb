{
 "cells": [
  {
   "cell_type": "code",
   "execution_count": 1,
   "metadata": {},
   "outputs": [],
   "source": [
    "%%capture\n",
    "%pip install langchain langchain-openai langchain_experimental python-dotenv matplotlib numpy pandas langgraph"
   ]
  },
  {
   "cell_type": "code",
   "execution_count": 5,
   "metadata": {},
   "outputs": [
    {
     "data": {
      "image/jpeg": "[encoded data removed]",
      "text/plain": [
       "<IPython.core.display.Image object>"
      ]
     },
     "metadata": {},
     "output_type": "display_data"
    }
   ],
   "source": [
    "from langgraph.graph import START, END, StateGraph, MessagesState\n",
    "from langchain_core.messages import HumanMessage\n",
    "from IPython.display import Image, display\n",
    "\n",
    "from typing_extensions import TypedDict\n",
    "\n",
    "#\n",
    "# LOS NODOS Y LAS KEYS DEL STATE NO DEBEN SER IGUALES PORQUE SINO FALLA EL GRAFO\n",
    "# AL MOMENTO DE CREARLO\n",
    "# \n",
    "\n",
    "class CustomState(MessagesState):\n",
    "    node_01: str\n",
    "    node_02: str\n",
    "    node_03: str\n",
    "\n",
    "\n",
    "def node_1(state):\n",
    "    # cuando el nodo 1 termina, se actualiza el estado en la key node_01 con este\n",
    "    # valor y continuamos el flujo\n",
    "    return {\"node_01\": \"ok\", \"messages\" : [HumanMessage(content='node 1')] + state[\"messages\"]}\n",
    "\n",
    "\n",
    "def node_2(state):\n",
    "    return {\"node_02\": \"ok\", \"messages\" : [HumanMessage(content='node 2')] + state[\"messages\"]}\n",
    "\n",
    "\n",
    "def node_3(state):\n",
    "    return {\"node_03\": \"ok\", \"messages\" : [HumanMessage(content='node 3')] + state[\"messages\"]}\n",
    "\n",
    "\n",
    "builder = StateGraph(CustomState)\n",
    "\n",
    "builder.add_node(\"node_1\", node_1)\n",
    "builder.add_node(\"node_2\", node_2)\n",
    "builder.add_node(\"node_3\", node_3)\n",
    "\n",
    "builder.add_edge(START, \"node_1\")\n",
    "builder.add_edge(\"node_1\", \"node_2\")\n",
    "builder.add_edge(\"node_2\", \"node_3\")\n",
    "builder.add_edge(\"node_3\", END)\n",
    "\n",
    "graph = builder.compile()\n",
    "\n",
    "display(Image(graph.get_graph(xray=True).draw_mermaid_png()))"
   ]
  },
  {
   "cell_type": "code",
   "execution_count": 7,
   "metadata": {},
   "outputs": [
    {
     "name": "stdout",
     "output_type": "stream",
     "text": [
      "================================\u001b[1m Human Message \u001b[0m=================================\n",
      "\n",
      "node 1\n",
      "================================\u001b[1m Human Message \u001b[0m=================================\n",
      "\n",
      "node 2\n",
      "================================\u001b[1m Human Message \u001b[0m=================================\n",
      "\n",
      "node 3\n",
      "{'node_01': 'ok', 'node_02': 'ok', 'node_03': 'ok'}\n"
     ]
    }
   ],
   "source": [
    "initial_state: CustomState = {\n",
    "    \"node_01\": \"\",\n",
    "    \"node_02\": \"\",\n",
    "    \"node_03\": \"\"\n",
    "}\n",
    "\n",
    "output = graph.invoke(\n",
    "    input=initial_state\n",
    ")\n",
    "\n",
    "for m in output['messages']:\n",
    "    m.pretty_print()\n",
    "\n",
    "output_without_messages = {k: v for k, v in output.items() if k != 'messages'}\n",
    "print(output_without_messages)"
   ]
  }
 ],
 "metadata": {
  "kernelspec": {
   "display_name": ".venv",
   "language": "python",
   "name": "python3"
  },
  "language_info": {
   "codemirror_mode": {
    "name": "ipython",
    "version": 3
   },
   "file_extension": ".py",
   "mimetype": "text/x-python",
   "name": "python",
   "nbconvert_exporter": "python",
   "pygments_lexer": "ipython3",
   "version": "3.10.15"
  }
 },
 "nbformat": 4,
 "nbformat_minor": 2
}
