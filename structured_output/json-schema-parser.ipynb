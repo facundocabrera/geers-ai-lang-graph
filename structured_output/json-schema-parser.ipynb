{
 "cells": [
  {
   "cell_type": "code",
   "execution_count": 38,
   "metadata": {
    "vscode": {
     "languageId": "shellscript"
    }
   },
   "outputs": [],
   "source": [
    "%%capture --no-stderr\n",
    "%pip install --quiet -U langgraph langchain_openai langchain_community langchain_core"
   ]
  },
  {
   "cell_type": "code",
   "execution_count": 39,
   "metadata": {},
   "outputs": [],
   "source": [
    "from langchain_openai import ChatOpenAI\n",
    "from dotenv import load_dotenv\n",
    "\n",
    "# Load environment variables from .env file\n",
    "load_dotenv()\n",
    "\n",
    "# Create the base instance of the ChatOpenAI class\n",
    "llm = ChatOpenAI(model=\"gpt-4o\", temperature=0)"
   ]
  },
  {
   "cell_type": "code",
   "execution_count": 40,
   "metadata": {},
   "outputs": [],
   "source": [
    "from langchain_core.prompts import PromptTemplate\n",
    "\n",
    "template = \"\"\"Create a JSON object analyzing the user question:\n",
    "\n",
    "{question}\n",
    "\n",
    "JSON object:\n",
    "\"\"\".strip()\n",
    "\n",
    "prompt = PromptTemplate.from_template(\n",
    "    template\n",
    ")"
   ]
  },
  {
   "cell_type": "code",
   "execution_count": 41,
   "metadata": {},
   "outputs": [],
   "source": [
    "chain = prompt | llm"
   ]
  },
  {
   "cell_type": "code",
   "execution_count": 42,
   "metadata": {},
   "outputs": [
    {
     "name": "stdout",
     "output_type": "stream",
     "text": [
      "<class 'langchain_core.messages.ai.AIMessage'>\n",
      "content='```json\\n{\\n  \"question\": \"when was bitcoin founded?\",\\n  \"analysis\": {\\n    \"topic\": \"Cryptocurrency\",\\n    \"specific_subject\": \"Bitcoin\",\\n    \"type_of_question\": \"Factual\",\\n    \"key_information_requested\": \"Founding date of Bitcoin\",\\n    \"expected_answer\": \"January 3, 2009\"\\n  }\\n}\\n```' additional_kwargs={'refusal': None} response_metadata={'token_usage': {'completion_tokens': 76, 'prompt_tokens': 24, 'total_tokens': 100, 'completion_tokens_details': {'audio_tokens': None, 'reasoning_tokens': 0}, 'prompt_tokens_details': {'audio_tokens': None, 'cached_tokens': 0}}, 'model_name': 'gpt-4o-2024-08-06', 'system_fingerprint': 'fp_90354628f2', 'finish_reason': 'stop', 'logprobs': None} id='run-5dc509bf-61d6-48a3-a618-ae254fec90d1-0' usage_metadata={'input_tokens': 24, 'output_tokens': 76, 'total_tokens': 100, 'input_token_details': {'cache_read': 0}, 'output_token_details': {'reasoning': 0}}\n"
     ]
    }
   ],
   "source": [
    "from IPython.display import Markdown, display\n",
    "\n",
    "output = chain.invoke({\"question\": \"when was bitcoin founded?\"})\n",
    "\n",
    "print(type(output))\n",
    "print(output)"
   ]
  },
  {
   "cell_type": "code",
   "execution_count": 43,
   "metadata": {},
   "outputs": [
    {
     "name": "stdout",
     "output_type": "stream",
     "text": [
      "<class 'langchain_core.messages.ai.AIMessage'>\n",
      "content='```json\\n{\\n  \"userQuestion\": \"how to travel from Tandil to Buenos Aires?\",\\n  \"analysis\": {\\n    \"origin\": \"Tandil\",\\n    \"destination\": \"Buenos Aires\",\\n    \"travelType\": \"intercity travel\",\\n    \"possibleModesOfTransport\": [\\n      \"bus\",\\n      \"car\",\\n      \"train\",\\n      \"plane\"\\n    ],\\n    \"informationNeeded\": [\\n      \"transport options\",\\n      \"travel duration\",\\n      \"cost\",\\n      \"schedule\",\\n      \"booking methods\"\\n    ],\\n    \"userIntent\": \"to find the best way to travel between two cities\"\\n  }\\n}\\n```' additional_kwargs={'refusal': None} response_metadata={'token_usage': {'completion_tokens': 130, 'prompt_tokens': 29, 'total_tokens': 159, 'completion_tokens_details': {'audio_tokens': None, 'reasoning_tokens': 0}, 'prompt_tokens_details': {'audio_tokens': None, 'cached_tokens': 0}}, 'model_name': 'gpt-4o-2024-08-06', 'system_fingerprint': 'fp_90354628f2', 'finish_reason': 'stop', 'logprobs': None} id='run-9ecda557-ad5a-4554-8c31-4322c873066c-0' usage_metadata={'input_tokens': 29, 'output_tokens': 130, 'total_tokens': 159, 'input_token_details': {'cache_read': 0}, 'output_token_details': {'reasoning': 0}}\n"
     ]
    }
   ],
   "source": [
    "from IPython.display import Markdown, display\n",
    "\n",
    "output = chain.invoke({\"question\": \"how to travel from Tandil to Buenos Aires?\"})\n",
    "\n",
    "print(type(output))\n",
    "print(output)"
   ]
  },
  {
   "cell_type": "code",
   "execution_count": 45,
   "metadata": {},
   "outputs": [
    {
     "name": "stdout",
     "output_type": "stream",
     "text": [
      "<class 'dict'>\n",
      "{'question': 'when was bitcoin founded?', 'analysis': {'subject': 'Bitcoin', 'type': 'factual', 'focus': 'founding date', 'expected_answer': 'January 3, 2009', 'context': 'Bitcoin is a decentralized digital currency, and its creation is attributed to an individual or group using the pseudonym Satoshi Nakamoto.'}}\n"
     ]
    }
   ],
   "source": [
    "from langchain_core.output_parsers import JsonOutputParser\n",
    "\n",
    "chain2 = prompt | llm | JsonOutputParser()\n",
    "\n",
    "output = chain2.invoke({\"question\": \"when was bitcoin founded?\"})\n",
    "\n",
    "print(type(output))\n",
    "print(output)"
   ]
  }
 ],
 "metadata": {
  "kernelspec": {
   "display_name": ".venv",
   "language": "python",
   "name": "python3"
  },
  "language_info": {
   "codemirror_mode": {
    "name": "ipython",
    "version": 3
   },
   "file_extension": ".py",
   "mimetype": "text/x-python",
   "name": "python",
   "nbconvert_exporter": "python",
   "pygments_lexer": "ipython3",
   "version": "3.10.15"
  }
 },
 "nbformat": 4,
 "nbformat_minor": 2
}
